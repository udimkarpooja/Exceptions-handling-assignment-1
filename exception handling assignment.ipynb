{
 "cells": [
  {
   "cell_type": "markdown",
   "id": "5372b346-0015-4b1f-807f-c4e21cb3a9fe",
   "metadata": {},
   "source": [
    "Q1) what is an exception in python? Write the differen,between Exceptions \n",
    "and syntax errror"
   ]
  },
  {
   "cell_type": "markdown",
   "id": "95c6d6d9-b1bb-4fa3-99d5-4de4a135029c",
   "metadata": {},
   "source": [
    "An Exception is an error that happens during the execution of a program. Whenever there is an error, Python generates an exception that could be handled. It basically prevents the program from getting crashed.\n",
    "An error is an issue in a program that prevents the program from completing its task. In comparison, an exception is a condition that interrupts the normal flow of the program. Both errors and exceptions are a type of runtime error, which means they occur during the execution of a program."
   ]
  },
  {
   "cell_type": "markdown",
   "id": "481b277a-b720-4081-a4fa-8e5f710f00ff",
   "metadata": {},
   "source": [
    "Q2) What hppens when an exception is not handled? Explain with an example"
   ]
  },
  {
   "cell_type": "markdown",
   "id": "9b67843a-1e8b-46f4-9c1e-4d35c095e18e",
   "metadata": {},
   "source": [
    "If no exception handler for a given exception is present, the program stops executing with an error message. Don't catch an exception unless you can handle it and leave the application in a known state."
   ]
  },
  {
   "cell_type": "code",
   "execution_count": 27,
   "id": "a6b81346-9cf3-4809-9688-0b21731832fe",
   "metadata": {},
   "outputs": [
    {
     "ename": "ZeroDivisionError",
     "evalue": "division by zero",
     "output_type": "error",
     "traceback": [
      "\u001b[0;31m---------------------------------------------------------------------------\u001b[0m",
      "\u001b[0;31mZeroDivisionError\u001b[0m                         Traceback (most recent call last)",
      "Cell \u001b[0;32mIn[27], line 3\u001b[0m\n\u001b[1;32m      1\u001b[0m \u001b[38;5;66;03m##example:\u001b[39;00m\n\u001b[0;32m----> 3\u001b[0m \u001b[43ma\u001b[49m\u001b[38;5;241;43m/\u001b[39;49m\u001b[38;5;241;43m0\u001b[39;49m \u001b[38;5;66;03m## the error is occurs\u001b[39;00m\n",
      "\u001b[0;31mZeroDivisionError\u001b[0m: division by zero"
     ]
    }
   ],
   "source": [
    "##example:\n",
    "\n",
    "a/0 ## the error is occurs"
   ]
  },
  {
   "cell_type": "markdown",
   "id": "fff4a8de-92f4-44ec-8336-c2c8d2d57ac1",
   "metadata": {},
   "source": [
    "an error is occurrs when the program executed\n",
    "so, for handling an error here we use the exeception handling"
   ]
  },
  {
   "cell_type": "code",
   "execution_count": 7,
   "id": "27c458d9-f35f-44b3-8439-e3be043c2ed7",
   "metadata": {},
   "outputs": [
    {
     "name": "stdout",
     "output_type": "stream",
     "text": [
      "division by zero\n"
     ]
    }
   ],
   "source": [
    "try :\n",
    "    a/0\n",
    "except ZeroDivisionError as e:\n",
    "    print(e)\n",
    "    "
   ]
  },
  {
   "cell_type": "markdown",
   "id": "20232ec6-1b62-4a89-8f81-7ac60830812c",
   "metadata": {},
   "source": [
    "Q3) Which Python statements are used to catch and handle exceptions? explain with an example."
   ]
  },
  {
   "cell_type": "markdown",
   "id": "f0bb6fcb-d846-45da-96e2-1258ffa0532b",
   "metadata": {},
   "source": [
    "Try and except statements are used to catch and handle exceptions in Python. Statements that can raise exceptions are kept inside the try clause and the statements that handle the exception are written inside except clause."
   ]
  },
  {
   "cell_type": "code",
   "execution_count": 9,
   "id": "ffaeb3ce-1805-4a29-9588-d62c3c62187c",
   "metadata": {},
   "outputs": [
    {
     "name": "stdout",
     "output_type": "stream",
     "text": [
      "this will catch an error\n"
     ]
    }
   ],
   "source": [
    "##example:\n",
    "\n",
    "try :\n",
    "    int(\"pooja\")\n",
    "except :\n",
    "    print(\"this will catch an error\")"
   ]
  },
  {
   "cell_type": "markdown",
   "id": "e557d031-48d3-4442-9d25-0945b2e9b9ec",
   "metadata": {},
   "source": [
    "Q4. Explain with an example:\n",
    "\n",
    "a. try and else\n",
    "b. finally\n",
    "c. raise"
   ]
  },
  {
   "cell_type": "code",
   "execution_count": 18,
   "id": "fdec75b1-3c1f-44ad-b4b4-19ee18134991",
   "metadata": {},
   "outputs": [
    {
     "name": "stdout",
     "output_type": "stream",
     "text": [
      "this is my except block  not writable\n"
     ]
    }
   ],
   "source": [
    "## a. try and else\n",
    "\n",
    "try :\n",
    "    f = open(\"test5.txt\" , 'r')\n",
    "    f.write(\"write into my file\")\n",
    "\n",
    "except Exception as e :\n",
    "    print(\"this is my except block \" ,e)\n",
    "else :\n",
    "    f.close()\n",
    "    print(\"this will be executed once your try will execute without error\")"
   ]
  },
  {
   "cell_type": "code",
   "execution_count": 20,
   "id": "43664e17-6ee2-4c58-bdcb-6ba249c299ed",
   "metadata": {},
   "outputs": [
    {
     "name": "stdout",
     "output_type": "stream",
     "text": [
      "this is my except block  argument should be integer or None, not 'str'\n",
      "this will be excuted \n"
     ]
    }
   ],
   "source": [
    "## finally\n",
    "\n",
    "try:\n",
    "    f = open(\"test6.txt\" ,'w')\n",
    "    f.read(\"read the file\")\n",
    "    \n",
    "except Exception as e :\n",
    "    print(\"this is my except block \" ,e)\n",
    "finally :\n",
    "    f.close()\n",
    "    print(\"this will be excuted \")\n",
    "        "
   ]
  },
  {
   "cell_type": "code",
   "execution_count": 21,
   "id": "c18e185c-9d6e-4906-b77d-d288d179366a",
   "metadata": {},
   "outputs": [
    {
     "name": "stdin",
     "output_type": "stream",
     "text": [
      "enter the number 44\n"
     ]
    },
    {
     "name": "stdout",
     "output_type": "stream",
     "text": [
      "the no is even\n"
     ]
    }
   ],
   "source": [
    "## raise\n",
    "\n",
    "\n",
    "class number(Exception) :\n",
    "    \n",
    "    def __init__(self , msg):\n",
    "        self.msg = msg\n",
    "\n",
    "\n",
    "        \n",
    "def number_check(no) :\n",
    "    if no < 0:\n",
    "        raise number(\"the no is negative\")\n",
    "    else :\n",
    "        \n",
    "        if no%2 == 0 :\n",
    "            raise number(\"the no is even\")\n",
    "        else :\n",
    "            raise number(\"the no is odd\")\n",
    "\n",
    "                \n",
    "try :\n",
    "    no = int(input(\"enter the number\"))\n",
    "    number_check(no)\n",
    "except number as e :\n",
    "    print(e)       "
   ]
  },
  {
   "cell_type": "markdown",
   "id": "011c1e86-600d-45cc-ae6e-78b7580e8808",
   "metadata": {},
   "source": [
    "Q5) What are Custom Exceptions in python? Why do we need Custom Exceptions?Explain with example. "
   ]
  },
  {
   "cell_type": "markdown",
   "id": "2b984e7b-7313-4c02-8185-561aec6d8bb1",
   "metadata": {},
   "source": [
    "Custom exceptions are helpful in many situations. They allow you to define your own error conditions and handle them in a more specific and meaningful way\n",
    "\n",
    "Custom exceptions provide you the flexibility to add attributes and methods. These can store additional information, like an application-specific error code, or provide utility methods that can be used to handle or present the exception to a user.\n"
   ]
  },
  {
   "cell_type": "code",
   "execution_count": 24,
   "id": "a28a11ca-7de2-49b3-8b25-aa3ba07c7792",
   "metadata": {},
   "outputs": [
    {
     "name": "stdin",
     "output_type": "stream",
     "text": [
      "enter your age 65\n"
     ]
    },
    {
     "name": "stdout",
     "output_type": "stream",
     "text": [
      "age is valid\n"
     ]
    }
   ],
   "source": [
    "## Example:\n",
    "\n",
    "class validateage(Exception):\n",
    "    \n",
    "    def __init__(self , msg) :\n",
    "        self.msg = msg\n",
    "        \n",
    "def vaildaetage(age) :\n",
    "    if age < 0:\n",
    "        raise validateage(\"entered age is negative\")\n",
    "    elif age > 200 :\n",
    "        raise validateage(\"enterd age is very very high\")\n",
    "    else:\n",
    "        print(\"age is valid\")\n",
    "        \n",
    "try :\n",
    "    age = int(input(\"enter your age\"))\n",
    "    vaildaetage(age)\n",
    "except validateage as e :\n",
    "    print(e)        "
   ]
  },
  {
   "cell_type": "markdown",
   "id": "79139916-c29e-4efe-a1c5-955a65895531",
   "metadata": {},
   "source": [
    "Q6) Create custom exception class. Use this class to handlean exception."
   ]
  },
  {
   "cell_type": "code",
   "execution_count": 26,
   "id": "0c5a4284-4bce-4aea-b13c-b37a9e333ab3",
   "metadata": {},
   "outputs": [
    {
     "name": "stdin",
     "output_type": "stream",
     "text": [
      "enter the age 12\n"
     ]
    },
    {
     "name": "stdout",
     "output_type": "stream",
     "text": [
      "YPU CAN NOT VOTE\n"
     ]
    }
   ],
   "source": [
    "class vote(Exception):\n",
    "    \n",
    "    def __init__(self ,age) :\n",
    "        self.age = age\n",
    "        \n",
    "def eligibility_criteria(age)  :\n",
    "    if age > 18 :\n",
    "        raise vote(\"YOU CAN VOTE\")\n",
    "    else :\n",
    "        raise vote(\"YPU CAN NOT VOTE\")\n",
    "        \n",
    "try:\n",
    "    age = int(input(\"enter the age\"))\n",
    "    eligibility_criteria(age)\n",
    "except Exception as e:\n",
    "    print(e)"
   ]
  },
  {
   "cell_type": "code",
   "execution_count": null,
   "id": "6dc7d8f2-329f-4d8b-a494-b41a25f28e9c",
   "metadata": {},
   "outputs": [],
   "source": []
  }
 ],
 "metadata": {
  "kernelspec": {
   "display_name": "Python 3 (ipykernel)",
   "language": "python",
   "name": "python3"
  },
  "language_info": {
   "codemirror_mode": {
    "name": "ipython",
    "version": 3
   },
   "file_extension": ".py",
   "mimetype": "text/x-python",
   "name": "python",
   "nbconvert_exporter": "python",
   "pygments_lexer": "ipython3",
   "version": "3.10.8"
  }
 },
 "nbformat": 4,
 "nbformat_minor": 5
}
